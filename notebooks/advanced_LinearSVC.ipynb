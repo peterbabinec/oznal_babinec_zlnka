{
 "cells": [
  {
   "cell_type": "markdown",
   "metadata": {},
   "source": [
    "#### Advanced preprocessing\n",
    "- stop-words removal\n",
    "- URLs replaced with domain names\n",
    "- characters with no information filtered\n",
    "- 4 classes with no support merged\n",
    "\n",
    "#### Basic transformation\n",
    "- count vectorizer\n",
    "- tf-idf normalization\n",
    "\n",
    "#### LinearSVC\n",
    "- Randomized Search for parameter tunning\n",
    "- OvR approach using parameter multi_class='ovr'"
   ]
  },
  {
   "cell_type": "code",
   "execution_count": 1,
   "metadata": {},
   "outputs": [],
   "source": [
    "import nltk\n",
    "import numpy as np\n",
    "import pandas as pd\n",
    "import re\n",
    "import sklearn\n",
    "import urllib.request as req\n",
    "\n",
    "from django.core.validators import URLValidator\n",
    "from django.core.exceptions import ValidationError\n",
    "\n",
    "from nltk import WordNetLemmatizer\n",
    "from nltk import PorterStemmer\n",
    "from nltk import word_tokenize\n",
    "from nltk.corpus import wordnet\n",
    "\n",
    "from sklearn.model_selection import train_test_split\n",
    "from sklearn.preprocessing import LabelEncoder\n",
    "from sklearn.pipeline import Pipeline\n",
    "from sklearn.multiclass import OneVsRestClassifier\n",
    "from sklearn.svm import SVC\n",
    "from sklearn.svm import LinearSVC\n",
    "from sklearn.feature_extraction.text import CountVectorizer\n",
    "from sklearn.feature_extraction.text import TfidfTransformer\n",
    "from sklearn.metrics import precision_recall_fscore_support\n",
    "from sklearn.metrics import classification_report\n",
    "from sklearn.model_selection import KFold\n",
    "from sklearn.model_selection import RandomizedSearchCV\n",
    "from sklearn.model_selection import learning_curve\n",
    "\n",
    "from scipy.stats import expon\n",
    "from scipy.stats import randint as sp_randint\n",
    "\n",
    "from urllib.parse import urlparse\n",
    "from tldextract import extract\n",
    "\n",
    "import warnings\n",
    "warnings.filterwarnings('ignore')"
   ]
  },
  {
   "cell_type": "markdown",
   "metadata": {},
   "source": [
    "# 1. Load data"
   ]
  },
  {
   "cell_type": "code",
   "execution_count": 2,
   "metadata": {},
   "outputs": [],
   "source": [
    "df = pd.read_csv('../mbti_1.csv')"
   ]
  },
  {
   "cell_type": "markdown",
   "metadata": {},
   "source": [
    "### Preprocessing"
   ]
  },
  {
   "cell_type": "code",
   "execution_count": 3,
   "metadata": {},
   "outputs": [],
   "source": [
    "df['posts'] = df['posts'].replace(to_replace=\"\\|\\|\\|\", value=\" \", regex=True)\n",
    "df['posts'] = df['posts'].str[1:-1]"
   ]
  },
  {
   "cell_type": "code",
   "execution_count": 4,
   "metadata": {},
   "outputs": [],
   "source": [
    "df['type'] = df['type'].replace(to_replace=\"ESTP\", value=\"ES*\")\n",
    "df['type'] = df['type'].replace(to_replace=\"ESFP\", value=\"ES*\")\n",
    "df['type'] = df['type'].replace(to_replace=\"ESFJ\", value=\"ES*\")\n",
    "df['type'] = df['type'].replace(to_replace=\"ESTJ\", value=\"ES*\")"
   ]
  },
  {
   "cell_type": "code",
   "execution_count": 5,
   "metadata": {},
   "outputs": [
    {
     "data": {
      "text/html": [
       "<div>\n",
       "<style scoped>\n",
       "    .dataframe tbody tr th:only-of-type {\n",
       "        vertical-align: middle;\n",
       "    }\n",
       "\n",
       "    .dataframe tbody tr th {\n",
       "        vertical-align: top;\n",
       "    }\n",
       "\n",
       "    .dataframe thead th {\n",
       "        text-align: right;\n",
       "    }\n",
       "</style>\n",
       "<table border=\"1\" class=\"dataframe\">\n",
       "  <thead>\n",
       "    <tr style=\"text-align: right;\">\n",
       "      <th></th>\n",
       "      <th>type</th>\n",
       "      <th>posts</th>\n",
       "    </tr>\n",
       "  </thead>\n",
       "  <tbody>\n",
       "    <tr>\n",
       "      <th>0</th>\n",
       "      <td>INFJ</td>\n",
       "      <td>http://www.youtube.com/watch?v=qsXHcwe3krw htt...</td>\n",
       "    </tr>\n",
       "    <tr>\n",
       "      <th>1</th>\n",
       "      <td>ENTP</td>\n",
       "      <td>I'm finding the lack of me in these posts very...</td>\n",
       "    </tr>\n",
       "    <tr>\n",
       "      <th>2</th>\n",
       "      <td>INTP</td>\n",
       "      <td>Good one  _____   https://www.youtube.com/watc...</td>\n",
       "    </tr>\n",
       "    <tr>\n",
       "      <th>3</th>\n",
       "      <td>INTJ</td>\n",
       "      <td>Dear INTP,   I enjoyed our conversation the ot...</td>\n",
       "    </tr>\n",
       "    <tr>\n",
       "      <th>4</th>\n",
       "      <td>ENTJ</td>\n",
       "      <td>You're fired. That's another silly misconcepti...</td>\n",
       "    </tr>\n",
       "  </tbody>\n",
       "</table>\n",
       "</div>"
      ],
      "text/plain": [
       "   type                                              posts\n",
       "0  INFJ  http://www.youtube.com/watch?v=qsXHcwe3krw htt...\n",
       "1  ENTP  I'm finding the lack of me in these posts very...\n",
       "2  INTP  Good one  _____   https://www.youtube.com/watc...\n",
       "3  INTJ  Dear INTP,   I enjoyed our conversation the ot...\n",
       "4  ENTJ  You're fired. That's another silly misconcepti..."
      ]
     },
     "execution_count": 5,
     "metadata": {},
     "output_type": "execute_result"
    }
   ],
   "source": [
    "df.head()"
   ]
  },
  {
   "cell_type": "code",
   "execution_count": 6,
   "metadata": {},
   "outputs": [],
   "source": [
    "# Replace URLs with domain names\n",
    "for index, row in df.iterrows():\n",
    "    urls = re.findall('(?P<url>https?://[^\\s]+)', row['posts'])\n",
    "    for u in urls:\n",
    "        row['posts'] = row['posts'].replace(u, extract(u).domain)"
   ]
  },
  {
   "cell_type": "code",
   "execution_count": 7,
   "metadata": {},
   "outputs": [],
   "source": [
    "# Remove non-alfa-num chars with exceptions (?!-)\n",
    "df['posts'] = df['posts'].replace(r'[^0-9a-zA-Z?!-]+', ' ', regex=True)"
   ]
  },
  {
   "cell_type": "code",
   "execution_count": 8,
   "metadata": {},
   "outputs": [],
   "source": [
    "# Reduce multiple dashes to one\n",
    "df['posts'] = df['posts'].replace(r'\\-+', '-', regex=True)"
   ]
  },
  {
   "cell_type": "code",
   "execution_count": 9,
   "metadata": {},
   "outputs": [],
   "source": [
    "# Remove dashes from beginning and end of every string\n",
    "df['posts'] = df['posts'].replace(r'(^-+)|(-+$)', '', regex=True)"
   ]
  },
  {
   "cell_type": "markdown",
   "metadata": {},
   "source": [
    "# 2. Train - Test split"
   ]
  },
  {
   "cell_type": "code",
   "execution_count": 10,
   "metadata": {},
   "outputs": [],
   "source": [
    "train, test = train_test_split(df, test_size=0.2, random_state=42)"
   ]
  },
  {
   "cell_type": "code",
   "execution_count": 11,
   "metadata": {},
   "outputs": [],
   "source": [
    "X_train = train['posts'].values\n",
    "X_test = test['posts'].values\n",
    "Y_train = train['type'].values\n",
    "Y_test = test['type'].values"
   ]
  },
  {
   "cell_type": "code",
   "execution_count": 12,
   "metadata": {},
   "outputs": [
    {
     "data": {
      "text/plain": [
       "6940"
      ]
     },
     "execution_count": 12,
     "metadata": {},
     "output_type": "execute_result"
    }
   ],
   "source": [
    "X_train.size"
   ]
  },
  {
   "cell_type": "markdown",
   "metadata": {},
   "source": [
    "# 3. Encoding labels"
   ]
  },
  {
   "cell_type": "code",
   "execution_count": 13,
   "metadata": {},
   "outputs": [
    {
     "data": {
      "text/plain": [
       "LabelEncoder()"
      ]
     },
     "execution_count": 13,
     "metadata": {},
     "output_type": "execute_result"
    }
   ],
   "source": [
    "le = LabelEncoder()\n",
    "le.fit(Y_train)"
   ]
  },
  {
   "cell_type": "code",
   "execution_count": 14,
   "metadata": {},
   "outputs": [
    {
     "data": {
      "text/plain": [
       "array(['ENFJ', 'ENFP', 'ENTJ', 'ENTP', 'ES*', 'INFJ', 'INFP', 'INTJ',\n",
       "       'INTP', 'ISFJ', 'ISFP', 'ISTJ', 'ISTP'], dtype=object)"
      ]
     },
     "execution_count": 14,
     "metadata": {},
     "output_type": "execute_result"
    }
   ],
   "source": [
    "le.classes_"
   ]
  },
  {
   "cell_type": "code",
   "execution_count": 15,
   "metadata": {},
   "outputs": [
    {
     "data": {
      "text/plain": [
       "array([5, 1, 3, ..., 5, 6, 7])"
      ]
     },
     "execution_count": 15,
     "metadata": {},
     "output_type": "execute_result"
    }
   ],
   "source": [
    "y_train_enc = le.transform(Y_train)\n",
    "y_train_enc"
   ]
  },
  {
   "cell_type": "markdown",
   "metadata": {},
   "source": [
    "# 4. Classification pipeline\n",
    "### with feature extraction and tf-idf"
   ]
  },
  {
   "cell_type": "code",
   "execution_count": 16,
   "metadata": {},
   "outputs": [],
   "source": [
    "def get_wordnet_pos(treebank_tag):\n",
    "    \"\"\"\n",
    "    Maps treebank tags to wordnet.\n",
    "    This step is needed when doing lemmatization\n",
    "    in combination with pos tagging.\n",
    "    :return: corresponding wordnet tag object\n",
    "    \"\"\"\n",
    "    # Decision block for mapping treebank tags to wordnet.\n",
    "    # Source: http://stackoverflow.com/a/15590384/5491423\n",
    "    if treebank_tag.startswith('J'):\n",
    "        return wordnet.ADJ\n",
    "    elif treebank_tag.startswith('V'):\n",
    "        return wordnet.VERB\n",
    "    elif treebank_tag.startswith('N'):\n",
    "        return wordnet.NOUN\n",
    "    elif treebank_tag.startswith('R'):\n",
    "        return wordnet.ADV\n",
    "    else:\n",
    "        return wordnet.NOUN"
   ]
  },
  {
   "cell_type": "code",
   "execution_count": 17,
   "metadata": {},
   "outputs": [],
   "source": [
    "class LemmaTokenizer(object):\n",
    "    \"\"\"\n",
    "    Based on: http://scikit-learn.org/stable/modules/feature_extraction.html#customizing-the-vectorizer-classes\n",
    "    \"\"\"\n",
    "    def __init__(self):\n",
    "        self.wnl = WordNetLemmatizer()\n",
    "\n",
    "    def __call__(self, doc):\n",
    "        return [self.wnl.lemmatize(t, get_wordnet_pos(pt)) for t, pt in nltk.pos_tag(word_tokenize(doc))]\n",
    "\n",
    "\n",
    "class StemTokenizer(object):\n",
    "    \"\"\"\n",
    "    Based on: http://scikit-learn.org/stable/modules/feature_extraction.html#customizing-the-vectorizer-classes\n",
    "    \"\"\"\n",
    "    def __init__(self):\n",
    "        self.ps = PorterStemmer()\n",
    "\n",
    "    def __call__(self, doc):\n",
    "        return [self.ps.stem(t) for t in word_tokenize(doc)]"
   ]
  },
  {
   "cell_type": "code",
   "execution_count": 18,
   "metadata": {},
   "outputs": [],
   "source": [
    "# SVC Pipeline\n",
    "def create_svc_pipe(norm='l2', C=1.0, loss='hinge'):\n",
    "            \n",
    "    svc_classifier = Pipeline([\n",
    "        ('vectorizer', CountVectorizer(lowercase=True, \n",
    "                                       tokenizer=LemmaTokenizer(),\n",
    "                                       stop_words='english'\n",
    "                                        )),\n",
    "        ('tfidf', TfidfTransformer(norm=norm)),\n",
    "        ('clf', LinearSVC(C=C, loss=loss, multi_class='ovr', class_weight='balanced', verbose=100, random_state=42))])\n",
    "    return svc_classifier"
   ]
  },
  {
   "cell_type": "markdown",
   "metadata": {},
   "source": [
    "# 5. Training"
   ]
  },
  {
   "cell_type": "code",
   "execution_count": 20,
   "metadata": {},
   "outputs": [
    {
     "name": "stdout",
     "output_type": "stream",
     "text": [
      "Fitting 2 folds for each of 3 candidates, totalling 6 fits\n",
      "[CV] clf__C=74, clf__loss=squared_hinge, tfidf__norm=l2 ..............\n",
      "[CV] clf__C=74, clf__loss=squared_hinge, tfidf__norm=l2 ..............\n",
      "[CV] clf__C=49, clf__loss=hinge, tfidf__norm=l2 ......................\n",
      "[CV] clf__C=49, clf__loss=hinge, tfidf__norm=l2 ......................\n",
      "[LibLinear][CV]  clf__C=49, clf__loss=hinge, tfidf__norm=l2, score=0.6012088504921448, total=21.5min\n",
      "[Parallel(n_jobs=-1)]: Done   1 tasks      | elapsed: 31.6min\n",
      "[CV] clf__C=22, clf__loss=hinge, tfidf__norm=l1 ......................\n",
      "[LibLinear][CV]  clf__C=74, clf__loss=squared_hinge, tfidf__norm=l2, score=0.6043424194977526, total=21.6min\n",
      "[CV] clf__C=22, clf__loss=hinge, tfidf__norm=l1 ......................\n",
      "[Parallel(n_jobs=-1)]: Done   2 out of   6 | elapsed: 31.7min remaining: 63.3min\n",
      "[LibLinear][CV]  clf__C=74, clf__loss=squared_hinge, tfidf__norm=l2, score=0.6223452925965501, total=21.7min\n",
      "[Parallel(n_jobs=-1)]: Done   3 out of   6 | elapsed: 31.8min remaining: 31.8min\n",
      "[LibLinear][CV]  clf__C=49, clf__loss=hinge, tfidf__norm=l2, score=0.6213446544952644, total=21.7min\n",
      "[Parallel(n_jobs=-1)]: Done   4 out of   6 | elapsed: 32.0min remaining: 16.0min\n"
     ]
    },
    {
     "name": "stderr",
     "output_type": "stream",
     "text": [
      "/home/delusionx/anaconda3/envs/knowledge_discovery/lib/python3.6/site-packages/sklearn/svm/base.py:898: ConvergenceWarning: Liblinear failed to converge, increase the number of iterations.\n",
      "  \"the number of iterations.\", ConvergenceWarning)\n",
      "/home/delusionx/anaconda3/envs/knowledge_discovery/lib/python3.6/site-packages/sklearn/svm/base.py:898: ConvergenceWarning: Liblinear failed to converge, increase the number of iterations.\n",
      "  \"the number of iterations.\", ConvergenceWarning)\n"
     ]
    },
    {
     "name": "stdout",
     "output_type": "stream",
     "text": [
      "[LibLinear][CV]  clf__C=22, clf__loss=hinge, tfidf__norm=l1, score=0.5893496329560317, total=10.8min\n",
      "[LibLinear][CV]  clf__C=22, clf__loss=hinge, tfidf__norm=l1, score=0.6168070436885912, total=10.9min\n",
      "[Parallel(n_jobs=-1)]: Done   6 out of   6 | elapsed: 47.6min remaining:    0.0s\n",
      "[Parallel(n_jobs=-1)]: Done   6 out of   6 | elapsed: 47.6min finished\n",
      "[LibLinear]"
     ]
    },
    {
     "name": "stderr",
     "output_type": "stream",
     "text": [
      "/home/delusionx/anaconda3/envs/knowledge_discovery/lib/python3.6/site-packages/sklearn/svm/base.py:898: ConvergenceWarning: Liblinear failed to converge, increase the number of iterations.\n",
      "  \"the number of iterations.\", ConvergenceWarning)\n"
     ]
    },
    {
     "data": {
      "text/plain": [
       "RandomizedSearchCV(cv=KFold(n_splits=2, random_state=42, shuffle=True),\n",
       "          error_score='raise',\n",
       "          estimator=Pipeline(memory=None,\n",
       "     steps=[('vectorizer', CountVectorizer(analyzer='word', binary=False, decode_error='strict',\n",
       "        dtype=<class 'numpy.int64'>, encoding='utf-8', input='content',\n",
       "        lowercase=True, max_df=1.0, max_features=None, min_df=1,\n",
       "        ngram_range=(1, 1), preprocessor=None, stop_words='english',\n",
       "  ...ax_iter=1000,\n",
       "     multi_class='ovr', penalty='l2', random_state=42, tol=0.0001,\n",
       "     verbose=100))]),\n",
       "          fit_params=None, iid=True, n_iter=3, n_jobs=-1,\n",
       "          param_distributions={'tfidf__norm': ['l1', 'l2'], 'clf__C': <scipy.stats._distn_infrastructure.rv_frozen object at 0x7fed4b4f00f0>, 'clf__loss': ['hinge', 'squared_hinge']},\n",
       "          pre_dispatch='2*n_jobs', random_state=None, refit=True,\n",
       "          return_train_score='warn', scoring='f1_weighted', verbose=50)"
      ]
     },
     "execution_count": 20,
     "metadata": {},
     "output_type": "execute_result"
    }
   ],
   "source": [
    "svc_params = { 'tfidf__norm': ['l1','l2'],\n",
    "              'clf__C': sp_randint(1, 100),\n",
    "              'clf__loss': ['hinge', 'squared_hinge']\n",
    "             }\n",
    "n_iter = 3\n",
    "cv = KFold(n_splits=2, shuffle=True, random_state=42)\n",
    "\n",
    "random_search = RandomizedSearchCV(create_svc_pipe(), \n",
    "                                   verbose=50,\n",
    "                                   param_distributions=svc_params,\n",
    "                                   n_iter=n_iter, \n",
    "                                   cv=cv, n_jobs=-1, \n",
    "                                   scoring='f1_weighted')\n",
    "\n",
    "random_search.fit(X_train, y_train_enc)"
   ]
  },
  {
   "cell_type": "code",
   "execution_count": 21,
   "metadata": {},
   "outputs": [
    {
     "name": "stderr",
     "output_type": "stream",
     "text": [
      "/home/delusionx/anaconda3/envs/knowledge_discovery/lib/python3.6/site-packages/sklearn/utils/deprecation.py:122: FutureWarning: You are accessing a training score ('mean_train_score'), which will not be available by default any more in 0.21. If you need training scores, please set return_train_score=True\n",
      "  warnings.warn(*warn_args, **warn_kwargs)\n",
      "/home/delusionx/anaconda3/envs/knowledge_discovery/lib/python3.6/site-packages/sklearn/utils/deprecation.py:122: FutureWarning: You are accessing a training score ('split0_train_score'), which will not be available by default any more in 0.21. If you need training scores, please set return_train_score=True\n",
      "  warnings.warn(*warn_args, **warn_kwargs)\n",
      "/home/delusionx/anaconda3/envs/knowledge_discovery/lib/python3.6/site-packages/sklearn/utils/deprecation.py:122: FutureWarning: You are accessing a training score ('split1_train_score'), which will not be available by default any more in 0.21. If you need training scores, please set return_train_score=True\n",
      "  warnings.warn(*warn_args, **warn_kwargs)\n",
      "/home/delusionx/anaconda3/envs/knowledge_discovery/lib/python3.6/site-packages/sklearn/utils/deprecation.py:122: FutureWarning: You are accessing a training score ('std_train_score'), which will not be available by default any more in 0.21. If you need training scores, please set return_train_score=True\n",
      "  warnings.warn(*warn_args, **warn_kwargs)\n"
     ]
    },
    {
     "data": {
      "text/html": [
       "<div>\n",
       "<style scoped>\n",
       "    .dataframe tbody tr th:only-of-type {\n",
       "        vertical-align: middle;\n",
       "    }\n",
       "\n",
       "    .dataframe tbody tr th {\n",
       "        vertical-align: top;\n",
       "    }\n",
       "\n",
       "    .dataframe thead th {\n",
       "        text-align: right;\n",
       "    }\n",
       "</style>\n",
       "<table border=\"1\" class=\"dataframe\">\n",
       "  <thead>\n",
       "    <tr style=\"text-align: right;\">\n",
       "      <th></th>\n",
       "      <th>mean_fit_time</th>\n",
       "      <th>mean_score_time</th>\n",
       "      <th>mean_test_score</th>\n",
       "      <th>mean_train_score</th>\n",
       "      <th>param_clf__C</th>\n",
       "      <th>param_clf__loss</th>\n",
       "      <th>param_tfidf__norm</th>\n",
       "      <th>params</th>\n",
       "      <th>rank_test_score</th>\n",
       "      <th>split0_test_score</th>\n",
       "      <th>split0_train_score</th>\n",
       "      <th>split1_test_score</th>\n",
       "      <th>split1_train_score</th>\n",
       "      <th>std_fit_time</th>\n",
       "      <th>std_score_time</th>\n",
       "      <th>std_test_score</th>\n",
       "      <th>std_train_score</th>\n",
       "    </tr>\n",
       "  </thead>\n",
       "  <tbody>\n",
       "    <tr>\n",
       "      <th>0</th>\n",
       "      <td>644.752264</td>\n",
       "      <td>655.458025</td>\n",
       "      <td>0.613344</td>\n",
       "      <td>1.000000</td>\n",
       "      <td>74</td>\n",
       "      <td>squared_hinge</td>\n",
       "      <td>l2</td>\n",
       "      <td>{'clf__C': 74, 'clf__loss': 'squared_hinge', '...</td>\n",
       "      <td>1</td>\n",
       "      <td>0.604342</td>\n",
       "      <td>1.0000</td>\n",
       "      <td>0.622345</td>\n",
       "      <td>1.000000</td>\n",
       "      <td>7.650914</td>\n",
       "      <td>4.802403</td>\n",
       "      <td>0.009001</td>\n",
       "      <td>0.000000</td>\n",
       "    </tr>\n",
       "    <tr>\n",
       "      <th>1</th>\n",
       "      <td>643.012023</td>\n",
       "      <td>653.044659</td>\n",
       "      <td>0.611277</td>\n",
       "      <td>1.000000</td>\n",
       "      <td>49</td>\n",
       "      <td>hinge</td>\n",
       "      <td>l2</td>\n",
       "      <td>{'clf__C': 49, 'clf__loss': 'hinge', 'tfidf__n...</td>\n",
       "      <td>2</td>\n",
       "      <td>0.601209</td>\n",
       "      <td>1.0000</td>\n",
       "      <td>0.621345</td>\n",
       "      <td>1.000000</td>\n",
       "      <td>7.267106</td>\n",
       "      <td>0.959595</td>\n",
       "      <td>0.010068</td>\n",
       "      <td>0.000000</td>\n",
       "    </tr>\n",
       "    <tr>\n",
       "      <th>2</th>\n",
       "      <td>352.494777</td>\n",
       "      <td>300.130196</td>\n",
       "      <td>0.603078</td>\n",
       "      <td>0.946669</td>\n",
       "      <td>22</td>\n",
       "      <td>hinge</td>\n",
       "      <td>l1</td>\n",
       "      <td>{'clf__C': 22, 'clf__loss': 'hinge', 'tfidf__n...</td>\n",
       "      <td>3</td>\n",
       "      <td>0.589350</td>\n",
       "      <td>0.9435</td>\n",
       "      <td>0.616807</td>\n",
       "      <td>0.949837</td>\n",
       "      <td>3.577255</td>\n",
       "      <td>1.858902</td>\n",
       "      <td>0.013729</td>\n",
       "      <td>0.003169</td>\n",
       "    </tr>\n",
       "  </tbody>\n",
       "</table>\n",
       "</div>"
      ],
      "text/plain": [
       "   mean_fit_time  mean_score_time  mean_test_score  mean_train_score  \\\n",
       "0     644.752264       655.458025         0.613344          1.000000   \n",
       "1     643.012023       653.044659         0.611277          1.000000   \n",
       "2     352.494777       300.130196         0.603078          0.946669   \n",
       "\n",
       "  param_clf__C param_clf__loss param_tfidf__norm  \\\n",
       "0           74   squared_hinge                l2   \n",
       "1           49           hinge                l2   \n",
       "2           22           hinge                l1   \n",
       "\n",
       "                                              params  rank_test_score  \\\n",
       "0  {'clf__C': 74, 'clf__loss': 'squared_hinge', '...                1   \n",
       "1  {'clf__C': 49, 'clf__loss': 'hinge', 'tfidf__n...                2   \n",
       "2  {'clf__C': 22, 'clf__loss': 'hinge', 'tfidf__n...                3   \n",
       "\n",
       "   split0_test_score  split0_train_score  split1_test_score  \\\n",
       "0           0.604342              1.0000           0.622345   \n",
       "1           0.601209              1.0000           0.621345   \n",
       "2           0.589350              0.9435           0.616807   \n",
       "\n",
       "   split1_train_score  std_fit_time  std_score_time  std_test_score  \\\n",
       "0            1.000000      7.650914        4.802403        0.009001   \n",
       "1            1.000000      7.267106        0.959595        0.010068   \n",
       "2            0.949837      3.577255        1.858902        0.013729   \n",
       "\n",
       "   std_train_score  \n",
       "0         0.000000  \n",
       "1         0.000000  \n",
       "2         0.003169  "
      ]
     },
     "execution_count": 21,
     "metadata": {},
     "output_type": "execute_result"
    }
   ],
   "source": [
    "# Prints results of parameter tuning\n",
    "df_results_rs = pd.DataFrame(random_search.cv_results_)\n",
    "df_results_rs"
   ]
  },
  {
   "cell_type": "code",
   "execution_count": 23,
   "metadata": {},
   "outputs": [
    {
     "name": "stdout",
     "output_type": "stream",
     "text": [
      "105116\n"
     ]
    }
   ],
   "source": [
    "# Lemmatization\n",
    "print(len(random_search.best_estimator_.named_steps[\"vectorizer\"].get_feature_names()))"
   ]
  },
  {
   "cell_type": "code",
   "execution_count": 22,
   "metadata": {},
   "outputs": [
    {
     "data": {
      "text/plain": [
       "Pipeline(memory=None,\n",
       "     steps=[('vectorizer', CountVectorizer(analyzer='word', binary=False, decode_error='strict',\n",
       "        dtype=<class 'numpy.int64'>, encoding='utf-8', input='content',\n",
       "        lowercase=True, max_df=1.0, max_features=None, min_df=1,\n",
       "        ngram_range=(1, 1), preprocessor=None, stop_words='english',\n",
       "  ...ax_iter=1000,\n",
       "     multi_class='ovr', penalty='l2', random_state=42, tol=0.0001,\n",
       "     verbose=100))])"
      ]
     },
     "execution_count": 22,
     "metadata": {},
     "output_type": "execute_result"
    }
   ],
   "source": [
    "random_search.best_estimator_"
   ]
  },
  {
   "cell_type": "markdown",
   "metadata": {},
   "source": [
    "# 6. Testing"
   ]
  },
  {
   "cell_type": "code",
   "execution_count": 24,
   "metadata": {},
   "outputs": [],
   "source": [
    "predictions = random_search.predict(X_test)"
   ]
  },
  {
   "cell_type": "code",
   "execution_count": 25,
   "metadata": {},
   "outputs": [],
   "source": [
    "y_test_enc = le.transform(Y_test)"
   ]
  },
  {
   "cell_type": "code",
   "execution_count": 53,
   "metadata": {},
   "outputs": [
    {
     "name": "stderr",
     "output_type": "stream",
     "text": [
      "/home/delusionx/anaconda3/envs/knowledge_discovery/lib/python3.6/site-packages/sklearn/metrics/classification.py:1135: UndefinedMetricWarning: Precision and F-score are ill-defined and being set to 0.0 in labels with no predicted samples.\n",
      "  'precision', 'predicted', average, warn_for)\n"
     ]
    },
    {
     "data": {
      "text/plain": [
       "(0.6847286480101508, 0.6876080691642651, 0.6852009479280805, None)"
      ]
     },
     "execution_count": 53,
     "metadata": {},
     "output_type": "execute_result"
    }
   ],
   "source": [
    "# Default (without cross-validation)\n",
    "precision_recall_fscore_support(y_test_enc, predictions, average='weighted')"
   ]
  },
  {
   "cell_type": "code",
   "execution_count": 40,
   "metadata": {},
   "outputs": [
    {
     "data": {
      "text/plain": [
       "(0.6842320025186109, 0.6858789625360231, 0.6840061642535726, None)"
      ]
     },
     "execution_count": 40,
     "metadata": {},
     "output_type": "execute_result"
    }
   ],
   "source": [
    "# Classes with low support merged to one (without cross-validation)\n",
    "precision_recall_fscore_support(y_test_enc, predictions, average='weighted')"
   ]
  },
  {
   "cell_type": "code",
   "execution_count": 21,
   "metadata": {},
   "outputs": [
    {
     "name": "stderr",
     "output_type": "stream",
     "text": [
      "/home/delusionx/anaconda3/envs/knowledge_discovery/lib/python3.6/site-packages/sklearn/metrics/classification.py:1135: UndefinedMetricWarning: Precision and F-score are ill-defined and being set to 0.0 in labels with no predicted samples.\n",
      "  'precision', 'predicted', average, warn_for)\n"
     ]
    },
    {
     "data": {
      "text/plain": [
       "(0.6789809482625633, 0.6789625360230548, 0.671172078828815, None)"
      ]
     },
     "execution_count": 21,
     "metadata": {},
     "output_type": "execute_result"
    }
   ],
   "source": [
    "# Stemming (without cross-validation)\n",
    "precision_recall_fscore_support(y_test_enc, predictions, average='weighted')"
   ]
  },
  {
   "cell_type": "code",
   "execution_count": 294,
   "metadata": {
    "scrolled": false
   },
   "outputs": [
    {
     "name": "stdout",
     "output_type": "stream",
     "text": [
      "             precision    recall  f1-score   support\n",
      "\n",
      "       ENFJ       0.53      0.46      0.49        41\n",
      "       ENFP       0.63      0.71      0.67       125\n",
      "       ENTJ       0.53      0.52      0.53        44\n",
      "       ENTP       0.63      0.66      0.64       135\n",
      "       ESFJ       0.25      0.29      0.27         7\n",
      "       ESFP       0.00      0.00      0.00         8\n",
      "       ESTJ       0.57      0.57      0.57         7\n",
      "       ESTP       0.64      0.47      0.54        15\n",
      "       INFJ       0.70      0.65      0.67       288\n",
      "       INFP       0.74      0.76      0.75       370\n",
      "       INTJ       0.68      0.69      0.69       193\n",
      "       INTP       0.75      0.78      0.76       293\n",
      "       ISFJ       0.82      0.71      0.76        45\n",
      "       ISFP       0.54      0.53      0.53        53\n",
      "       ISTJ       0.67      0.55      0.60        44\n",
      "       ISTP       0.64      0.69      0.66        67\n",
      "\n",
      "avg / total       0.68      0.69      0.69      1735\n",
      "\n"
     ]
    },
    {
     "name": "stderr",
     "output_type": "stream",
     "text": [
      "/home/delusionx/anaconda3/envs/knowledge_discovery/lib/python3.6/site-packages/sklearn/metrics/classification.py:1135: UndefinedMetricWarning: Precision and F-score are ill-defined and being set to 0.0 in labels with no predicted samples.\n",
      "  'precision', 'predicted', average, warn_for)\n"
     ]
    }
   ],
   "source": [
    "# Default class report (without cross-validation)\n",
    "print(classification_report(y_test_enc, predictions, target_names=le.classes_))"
   ]
  },
  {
   "cell_type": "code",
   "execution_count": 41,
   "metadata": {
    "scrolled": false
   },
   "outputs": [
    {
     "name": "stdout",
     "output_type": "stream",
     "text": [
      "             precision    recall  f1-score   support\n",
      "\n",
      "       ENFJ       0.53      0.46      0.49        41\n",
      "       ENFP       0.64      0.71      0.67       125\n",
      "       ENTJ       0.59      0.52      0.55        44\n",
      "       ENTP       0.64      0.65      0.65       135\n",
      "        ES*       0.40      0.32      0.36        37\n",
      "       INFJ       0.70      0.65      0.68       288\n",
      "       INFP       0.74      0.77      0.75       370\n",
      "       INTJ       0.67      0.68      0.68       193\n",
      "       INTP       0.74      0.78      0.76       293\n",
      "       ISFJ       0.81      0.67      0.73        45\n",
      "       ISFP       0.56      0.55      0.55        53\n",
      "       ISTJ       0.66      0.52      0.58        44\n",
      "       ISTP       0.63      0.67      0.65        67\n",
      "\n",
      "avg / total       0.68      0.69      0.68      1735\n",
      "\n"
     ]
    }
   ],
   "source": [
    "# Class report when merged classes (without cross-validation)\n",
    "print(classification_report(y_test_enc, predictions, target_names=le.classes_))"
   ]
  },
  {
   "cell_type": "code",
   "execution_count": 26,
   "metadata": {},
   "outputs": [
    {
     "name": "stdout",
     "output_type": "stream",
     "text": [
      "             precision    recall  f1-score   support\n",
      "\n",
      "       ENFJ       0.50      0.34      0.41        41\n",
      "       ENFP       0.64      0.68      0.66       125\n",
      "       ENTJ       0.70      0.52      0.60        44\n",
      "       ENTP       0.63      0.61      0.62       135\n",
      "        ES*       0.61      0.30      0.40        37\n",
      "       INFJ       0.60      0.64      0.62       288\n",
      "       INFP       0.68      0.75      0.71       370\n",
      "       INTJ       0.61      0.69      0.65       193\n",
      "       INTP       0.69      0.74      0.71       293\n",
      "       ISFJ       0.89      0.53      0.67        45\n",
      "       ISFP       0.58      0.47      0.52        53\n",
      "       ISTJ       0.67      0.36      0.47        44\n",
      "       ISTP       0.64      0.55      0.59        67\n",
      "\n",
      "avg / total       0.65      0.65      0.64      1735\n",
      "\n"
     ]
    }
   ],
   "source": [
    "# Class report when merged classes (with CV and param tuning)\n",
    "print(classification_report(y_test_enc, predictions, target_names=le.classes_))"
   ]
  },
  {
   "cell_type": "code",
   "execution_count": 80,
   "metadata": {},
   "outputs": [],
   "source": [
    "import matplotlib.pyplot as plt\n",
    "import seaborn as sns\n",
    "sns.set(font_scale=1.0)"
   ]
  },
  {
   "cell_type": "code",
   "execution_count": 81,
   "metadata": {},
   "outputs": [
    {
     "name": "stdout",
     "output_type": "stream",
     "text": [
      "['ENFJ', '0.50', '0.34', '0.41', '41']\n",
      "['ENFP', '0.64', '0.68', '0.66', '125']\n",
      "['ENTJ', '0.70', '0.52', '0.60', '44']\n",
      "['ENTP', '0.63', '0.61', '0.62', '135']\n",
      "['ES*', '0.61', '0.30', '0.40', '37']\n",
      "['INFJ', '0.60', '0.64', '0.62', '288']\n",
      "['INFP', '0.68', '0.75', '0.71', '370']\n",
      "['INTJ', '0.61', '0.69', '0.65', '193']\n",
      "['INTP', '0.69', '0.74', '0.71', '293']\n",
      "['ISFJ', '0.89', '0.53', '0.67', '45']\n",
      "['ISFP', '0.58', '0.47', '0.52', '53']\n",
      "['ISTJ', '0.67', '0.36', '0.47', '44']\n"
     ]
    }
   ],
   "source": [
    "def report_to_dataframe(report):\n",
    "    report_data = []\n",
    "    for i in range(2, 14):\n",
    "        row_data = list(filter(None, report.split('\\n')[i].split(' ')))\n",
    "        print(row_data)\n",
    "        df_row = {}\n",
    "        df_row['trieda'] = row_data[0]\n",
    "        df_row['presnosť'] = float(row_data[1])\n",
    "        df_row['pokrytie'] = float(row_data[2])\n",
    "        df_row['F1'] = float(row_data[3])\n",
    "        df_row['podpora'] = int(row_data[4])\n",
    "        \n",
    "        report_data.append(df_row)\n",
    "    dataframe = pd.DataFrame.from_dict(report_data)\n",
    "    return dataframe\n",
    "\n",
    "report = classification_report(y_test_enc, predictions, target_names=le.classes_)\n",
    "df_rep = report_to_dataframe(report)"
   ]
  },
  {
   "cell_type": "code",
   "execution_count": 82,
   "metadata": {},
   "outputs": [],
   "source": [
    "df_support = df_rep[['trieda', 'podpora']]\n",
    "df_rep.set_index('trieda', inplace=True)\n",
    "df_metrics = df_rep[['presnosť','pokrytie', 'F1']]\n"
   ]
  },
  {
   "cell_type": "code",
   "execution_count": 83,
   "metadata": {},
   "outputs": [],
   "source": [
    "df_support = df_support.sort_values('podpora', ascending=False).reset_index(drop=True)"
   ]
  },
  {
   "cell_type": "code",
   "execution_count": 93,
   "metadata": {},
   "outputs": [
    {
     "data": {
      "image/png": "[encoded data removed]",
      "text/plain": [
       "<matplotlib.figure.Figure at 0x7fed2ac92ef0>"
      ]
     },
     "metadata": {},
     "output_type": "display_data"
    }
   ],
   "source": [
    "f, ax = plt.subplots()\n",
    "color_palette = sns.diverging_palette(14, 141, sep=5, n=7)\n",
    "heatmap = sns.heatmap(df_metrics, annot=True, vmin=0.0, vmax=1.0, linewidths=.4, ax=ax, cmap=color_palette)\n",
    "heatfig = heatmap.get_figure()\n",
    "heatfig.savefig(\"linearSVC_results.png\", dpi=200)"
   ]
  },
  {
   "cell_type": "code",
   "execution_count": 34,
   "metadata": {},
   "outputs": [
    {
     "data": {
      "image/png": "[encoded data removed]",
      "text/plain": [
       "<matplotlib.figure.Figure at 0x7fed36a5f9b0>"
      ]
     },
     "metadata": {},
     "output_type": "display_data"
    }
   ],
   "source": [
    "# Support in test sample\n",
    "sns.set(font_scale=1.3)\n",
    "sns.set_style(\"whitegrid\")\n",
    "f, ax = plt.subplots(figsize=(12, 6))\n",
    "barplot = sns.barplot(data=df_support, x='trieda', y='podpora', color=\"mediumseagreen\", saturation=.6)\n",
    "barplot.set(xlabel='Class', ylabel='Support')\n",
    "barfig = barplot.get_figure()\n",
    "barfig.savefig(\"support.png\")"
   ]
  },
  {
   "cell_type": "code",
   "execution_count": 19,
   "metadata": {},
   "outputs": [],
   "source": [
    "# Learning curves (Precision / Recall)\n",
    "from sklearn.model_selection import learning_curve\n",
    "import matplotlib.pyplot as plt\n",
    "\n",
    "\n",
    "def plot_learning_curve(estimator, title, X, y, file=None, ylim=None, cv=None,\n",
    "                        n_jobs=1, train_sizes=np.linspace(.1, 1.0, 5),\n",
    "                        scoring='f1_weighted'):\n",
    "    \"\"\"\n",
    "    Source: http://scikit-learn.org/stable/auto_examples/model_selection/plot_learning_curve.html\n",
    "    \"\"\"\n",
    "\n",
    "\n",
    "    plt.figure()\n",
    "    plt.title(title, fontsize=14)\n",
    "    if ylim is not None:\n",
    "        plt.ylim(*ylim)\n",
    "    plt.xlabel(\"Trénovacie vzorky\", fontsize=14)\n",
    "    plt.ylabel(\"Skóre (\" + scoring + \")\", fontsize=14)\n",
    "    train_sizes, train_scores, test_scores = learning_curve(\n",
    "        estimator, X, y, cv=cv, n_jobs=n_jobs, scoring=scoring, train_sizes=train_sizes)\n",
    "    train_scores_mean = np.mean(train_scores, axis=1)\n",
    "    train_scores_std = np.std(train_scores, axis=1)\n",
    "    test_scores_mean = np.mean(test_scores, axis=1)\n",
    "    test_scores_std = np.std(test_scores, axis=1)\n",
    "    plt.grid()\n",
    "\n",
    "    plt.fill_between(train_sizes, train_scores_mean - train_scores_std,\n",
    "                     train_scores_mean + train_scores_std, alpha=0.1,\n",
    "                     color=\"r\")\n",
    "    plt.fill_between(train_sizes, test_scores_mean - test_scores_std,\n",
    "                     test_scores_mean + test_scores_std, alpha=0.1, color=\"g\")\n",
    "    plt.plot(train_sizes, train_scores_mean, 'o-', color=\"r\",\n",
    "             label=\"Trén. skóre\")\n",
    "    plt.plot(train_sizes, test_scores_mean, 'o-', color=\"g\",\n",
    "             label=\"CV skóre\"),\n",
    "\n",
    "    plt.legend(loc=3)\n",
    "    plt.savefig(file, format='png', dpi=150)\n",
    "    \n",
    "    return plt"
   ]
  },
  {
   "cell_type": "code",
   "execution_count": 20,
   "metadata": {},
   "outputs": [
    {
     "data": {
      "image/png": "[encoded data removed]",
      "text/plain": [
       "<matplotlib.figure.Figure at 0x7f4f33e76f98>"
      ]
     },
     "metadata": {},
     "output_type": "display_data"
    }
   ],
   "source": [
    "title = \"LinearSVC\"\n",
    "\n",
    "C = random_search.best_params_.get('clf__C')\n",
    "norm = random_search.best_params_.get('tfidf__norm')\n",
    "loss = random_search.best_params_.get('clf__loss')\n",
    "\n",
    "plt_p = plot_learning_curve(create_svc_pipe(C=C, norm=norm, loss=loss), title, \n",
    "                            X_train, y_train_enc, ylim=(0.1, 1.01), file='f1_linearSVC.png', \n",
    "                            cv=cv, n_jobs=-1, scoring='f1_weighted')"
   ]
  },
  {
   "cell_type": "code",
   "execution_count": null,
   "metadata": {},
   "outputs": [],
   "source": []
  }
 ],
 "metadata": {
  "kernelspec": {
   "display_name": "Python 3",
   "language": "python",
   "name": "python3"
  },
  "language_info": {
   "codemirror_mode": {
    "name": "ipython",
    "version": 3
   },
   "file_extension": ".py",
   "mimetype": "text/x-python",
   "name": "python",
   "nbconvert_exporter": "python",
   "pygments_lexer": "ipython3",
   "version": "3.6.4"
  }
 },
 "nbformat": 4,
 "nbformat_minor": 2
}
