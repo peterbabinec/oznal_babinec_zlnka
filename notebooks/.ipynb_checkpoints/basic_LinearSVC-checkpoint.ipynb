{
 "cells": [
  {
   "cell_type": "markdown",
   "metadata": {},
   "source": [
    "#### Basic preprocessing\n",
    "- stop-words removal\n",
    "\n",
    "#### Basic transformation\n",
    "- no dimensionality reduction\n",
    "- tf-idf normalization\n",
    "\n",
    "#### LinearSVC\n",
    "- no parameter tuning\n",
    "- default parameters\n",
    "- OvR approach using parameter multi_class='ovr'"
   ]
  },
  {
   "cell_type": "code",
   "execution_count": 62,
   "metadata": {},
   "outputs": [],
   "source": [
    "import nltk\n",
    "import sklearn\n",
    "import pandas as pd\n",
    "import re\n",
    "import numpy as np\n",
    "\n",
    "from sklearn.model_selection import train_test_split\n",
    "from sklearn.preprocessing import LabelEncoder\n",
    "from sklearn.pipeline import Pipeline\n",
    "from sklearn.multiclass import OneVsRestClassifier\n",
    "from sklearn.svm import SVC\n",
    "from sklearn.svm import LinearSVC\n",
    "from sklearn.feature_extraction.text import CountVectorizer\n",
    "from sklearn.feature_extraction.text import TfidfTransformer\n",
    "from sklearn.metrics import precision_recall_fscore_support\n",
    "from sklearn.metrics import classification_report\n",
    "from nltk import WordNetLemmatizer\n",
    "from nltk import PorterStemmer\n",
    "from nltk import word_tokenize\n",
    "from nltk.corpus import wordnet"
   ]
  },
  {
   "cell_type": "markdown",
   "metadata": {},
   "source": [
    "# 1. Load data"
   ]
  },
  {
   "cell_type": "code",
   "execution_count": 63,
   "metadata": {},
   "outputs": [],
   "source": [
    "df = pd.read_csv('../mbti_1.csv')"
   ]
  },
  {
   "cell_type": "code",
   "execution_count": 64,
   "metadata": {},
   "outputs": [],
   "source": [
    "df['posts'] = df['posts'].replace(to_replace=\"\\|\\|\\|\", value=\" \", regex=True)\n",
    "df['posts'] = df['posts'].str[1:-1]"
   ]
  },
  {
   "cell_type": "code",
   "execution_count": 65,
   "metadata": {},
   "outputs": [
    {
     "data": {
      "text/html": [
       "<div>\n",
       "<style scoped>\n",
       "    .dataframe tbody tr th:only-of-type {\n",
       "        vertical-align: middle;\n",
       "    }\n",
       "\n",
       "    .dataframe tbody tr th {\n",
       "        vertical-align: top;\n",
       "    }\n",
       "\n",
       "    .dataframe thead th {\n",
       "        text-align: right;\n",
       "    }\n",
       "</style>\n",
       "<table border=\"1\" class=\"dataframe\">\n",
       "  <thead>\n",
       "    <tr style=\"text-align: right;\">\n",
       "      <th></th>\n",
       "      <th>type</th>\n",
       "      <th>posts</th>\n",
       "    </tr>\n",
       "  </thead>\n",
       "  <tbody>\n",
       "    <tr>\n",
       "      <th>0</th>\n",
       "      <td>INFJ</td>\n",
       "      <td>http://www.youtube.com/watch?v=qsXHcwe3krw htt...</td>\n",
       "    </tr>\n",
       "    <tr>\n",
       "      <th>1</th>\n",
       "      <td>ENTP</td>\n",
       "      <td>I'm finding the lack of me in these posts very...</td>\n",
       "    </tr>\n",
       "    <tr>\n",
       "      <th>2</th>\n",
       "      <td>INTP</td>\n",
       "      <td>Good one  _____   https://www.youtube.com/watc...</td>\n",
       "    </tr>\n",
       "    <tr>\n",
       "      <th>3</th>\n",
       "      <td>INTJ</td>\n",
       "      <td>Dear INTP,   I enjoyed our conversation the ot...</td>\n",
       "    </tr>\n",
       "    <tr>\n",
       "      <th>4</th>\n",
       "      <td>ENTJ</td>\n",
       "      <td>You're fired. That's another silly misconcepti...</td>\n",
       "    </tr>\n",
       "    <tr>\n",
       "      <th>5</th>\n",
       "      <td>INTJ</td>\n",
       "      <td>18/37 @.@ Science  is not perfect. No scientis...</td>\n",
       "    </tr>\n",
       "    <tr>\n",
       "      <th>6</th>\n",
       "      <td>INFJ</td>\n",
       "      <td>No, I can't draw on my own nails (haha). Those...</td>\n",
       "    </tr>\n",
       "    <tr>\n",
       "      <th>7</th>\n",
       "      <td>INTJ</td>\n",
       "      <td>I tend to build up a collection of things on m...</td>\n",
       "    </tr>\n",
       "    <tr>\n",
       "      <th>8</th>\n",
       "      <td>INFJ</td>\n",
       "      <td>'m not sure, that's a good question. The disti...</td>\n",
       "    </tr>\n",
       "    <tr>\n",
       "      <th>9</th>\n",
       "      <td>INTP</td>\n",
       "      <td>https://www.youtube.com/watch?v=w8-egj0y8Qs I'...</td>\n",
       "    </tr>\n",
       "    <tr>\n",
       "      <th>10</th>\n",
       "      <td>INFJ</td>\n",
       "      <td>One time my parents were fighting over my dad'...</td>\n",
       "    </tr>\n",
       "    <tr>\n",
       "      <th>11</th>\n",
       "      <td>ENFJ</td>\n",
       "      <td>https://www.youtube.com/watch?v=PLAaiKvHvZs 51...</td>\n",
       "    </tr>\n",
       "    <tr>\n",
       "      <th>12</th>\n",
       "      <td>INFJ</td>\n",
       "      <td>Joe santagato - ENTP ENFJ or  ENTP?   I'm not ...</td>\n",
       "    </tr>\n",
       "    <tr>\n",
       "      <th>13</th>\n",
       "      <td>INTJ</td>\n",
       "      <td>Fair enough, if that's how you want to look at...</td>\n",
       "    </tr>\n",
       "    <tr>\n",
       "      <th>14</th>\n",
       "      <td>INTP</td>\n",
       "      <td>Basically this...  https://youtu.be/1pH5c1JkhL...</td>\n",
       "    </tr>\n",
       "    <tr>\n",
       "      <th>15</th>\n",
       "      <td>INTP</td>\n",
       "      <td>Your comment screams INTJ, bro. Especially the...</td>\n",
       "    </tr>\n",
       "    <tr>\n",
       "      <th>16</th>\n",
       "      <td>INFJ</td>\n",
       "      <td>some of these both excite and calm me:  BUTTS ...</td>\n",
       "    </tr>\n",
       "    <tr>\n",
       "      <th>17</th>\n",
       "      <td>INFP</td>\n",
       "      <td>I think we do agree. I personally don't consid...</td>\n",
       "    </tr>\n",
       "    <tr>\n",
       "      <th>18</th>\n",
       "      <td>INFJ</td>\n",
       "      <td>I fully believe in the power of being a protec...</td>\n",
       "    </tr>\n",
       "    <tr>\n",
       "      <th>19</th>\n",
       "      <td>INFP</td>\n",
       "      <td>That's normal, it happens also to me. If I am ...</td>\n",
       "    </tr>\n",
       "    <tr>\n",
       "      <th>20</th>\n",
       "      <td>INTP</td>\n",
       "      <td>Steve Job's was recognized for his striving fo...</td>\n",
       "    </tr>\n",
       "    <tr>\n",
       "      <th>21</th>\n",
       "      <td>INFJ</td>\n",
       "      <td>It is very annoying to be misinterpreted. Espe...</td>\n",
       "    </tr>\n",
       "    <tr>\n",
       "      <th>22</th>\n",
       "      <td>ENTJ</td>\n",
       "      <td>Now I'm interested. But too lazy to go researc...</td>\n",
       "    </tr>\n",
       "    <tr>\n",
       "      <th>23</th>\n",
       "      <td>INFP</td>\n",
       "      <td>45016 urh sorry uh. couldn't resist. all of yo...</td>\n",
       "    </tr>\n",
       "    <tr>\n",
       "      <th>24</th>\n",
       "      <td>ENTJ</td>\n",
       "      <td>Still going strong at just over the two year m...</td>\n",
       "    </tr>\n",
       "    <tr>\n",
       "      <th>25</th>\n",
       "      <td>INFP</td>\n",
       "      <td>Personally, I was thinking this would be more ...</td>\n",
       "    </tr>\n",
       "    <tr>\n",
       "      <th>26</th>\n",
       "      <td>ENFP</td>\n",
       "      <td>He doesn't want to go on the trip without me, ...</td>\n",
       "    </tr>\n",
       "    <tr>\n",
       "      <th>27</th>\n",
       "      <td>ISFP</td>\n",
       "      <td>They paint without numbers I'd guess at istp t...</td>\n",
       "    </tr>\n",
       "    <tr>\n",
       "      <th>28</th>\n",
       "      <td>INFP</td>\n",
       "      <td>Basically, my main questions are : What do you...</td>\n",
       "    </tr>\n",
       "    <tr>\n",
       "      <th>29</th>\n",
       "      <td>INFJ</td>\n",
       "      <td>I think that that can absolutely be true of in...</td>\n",
       "    </tr>\n",
       "    <tr>\n",
       "      <th>...</th>\n",
       "      <td>...</td>\n",
       "      <td>...</td>\n",
       "    </tr>\n",
       "    <tr>\n",
       "      <th>8645</th>\n",
       "      <td>INFJ</td>\n",
       "      <td>I play cello, and I'm also a classically train...</td>\n",
       "    </tr>\n",
       "    <tr>\n",
       "      <th>8646</th>\n",
       "      <td>INFP</td>\n",
       "      <td>ts more or less based on how YOU experienced t...</td>\n",
       "    </tr>\n",
       "    <tr>\n",
       "      <th>8647</th>\n",
       "      <td>INTP</td>\n",
       "      <td>ocionics picked up on this.  They call it visu...</td>\n",
       "    </tr>\n",
       "    <tr>\n",
       "      <th>8648</th>\n",
       "      <td>INFP</td>\n",
       "      <td>Good advice, thank you. I am in a tough situat...</td>\n",
       "    </tr>\n",
       "    <tr>\n",
       "      <th>8649</th>\n",
       "      <td>INFP</td>\n",
       "      <td>ttps://www.youtube.com/watch?v=nPDusM-75FE  en...</td>\n",
       "    </tr>\n",
       "    <tr>\n",
       "      <th>8650</th>\n",
       "      <td>INFJ</td>\n",
       "      <td>I think the real question is whether INFJs can...</td>\n",
       "    </tr>\n",
       "    <tr>\n",
       "      <th>8651</th>\n",
       "      <td>ISTP</td>\n",
       "      <td>-Being alone -Being insensitive  -Over thinkin...</td>\n",
       "    </tr>\n",
       "    <tr>\n",
       "      <th>8652</th>\n",
       "      <td>ISFJ</td>\n",
       "      <td>Being assertive and standing up for myself is ...</td>\n",
       "    </tr>\n",
       "    <tr>\n",
       "      <th>8653</th>\n",
       "      <td>INFP</td>\n",
       "      <td>You should do whatever it is you want. If you ...</td>\n",
       "    </tr>\n",
       "    <tr>\n",
       "      <th>8654</th>\n",
       "      <td>ISTJ</td>\n",
       "      <td>Assuming I had a hand in it, I always at least...</td>\n",
       "    </tr>\n",
       "    <tr>\n",
       "      <th>8655</th>\n",
       "      <td>INFJ</td>\n",
       "      <td>I find that poster and your facial expression,...</td>\n",
       "    </tr>\n",
       "    <tr>\n",
       "      <th>8656</th>\n",
       "      <td>INFJ</td>\n",
       "      <td>im  In some approximate order, it seems like y...</td>\n",
       "    </tr>\n",
       "    <tr>\n",
       "      <th>8657</th>\n",
       "      <td>INTJ</td>\n",
       "      <td>ocial  1) Generally, I positively associate wi...</td>\n",
       "    </tr>\n",
       "    <tr>\n",
       "      <th>8658</th>\n",
       "      <td>ESFJ</td>\n",
       "      <td>Don't worry, I do that too when a car comes cl...</td>\n",
       "    </tr>\n",
       "    <tr>\n",
       "      <th>8659</th>\n",
       "      <td>ENFP</td>\n",
       "      <td>leoni I had really bad social anxiety until I ...</td>\n",
       "    </tr>\n",
       "    <tr>\n",
       "      <th>8660</th>\n",
       "      <td>INFP</td>\n",
       "      <td>I love the vastness of the sky, because my pro...</td>\n",
       "    </tr>\n",
       "    <tr>\n",
       "      <th>8661</th>\n",
       "      <td>ENTP</td>\n",
       "      <td>**haven't logged in and read posts for over 6 ...</td>\n",
       "    </tr>\n",
       "    <tr>\n",
       "      <th>8662</th>\n",
       "      <td>INTJ</td>\n",
       "      <td>I can't say I have any one specific belief. I ...</td>\n",
       "    </tr>\n",
       "    <tr>\n",
       "      <th>8663</th>\n",
       "      <td>INTP</td>\n",
       "      <td>doesn't matter, you don't have a choice, Elect...</td>\n",
       "    </tr>\n",
       "    <tr>\n",
       "      <th>8664</th>\n",
       "      <td>INTP</td>\n",
       "      <td>https://www.youtube.com/watch?v=7zsMdi714mI So...</td>\n",
       "    </tr>\n",
       "    <tr>\n",
       "      <th>8665</th>\n",
       "      <td>ENTP</td>\n",
       "      <td>This test wasn't even close on my gender, age,...</td>\n",
       "    </tr>\n",
       "    <tr>\n",
       "      <th>8666</th>\n",
       "      <td>INTJ</td>\n",
       "      <td>Highly recommend this to those who wants to tr...</td>\n",
       "    </tr>\n",
       "    <tr>\n",
       "      <th>8667</th>\n",
       "      <td>ENTP</td>\n",
       "      <td>I think generally people experience post traum...</td>\n",
       "    </tr>\n",
       "    <tr>\n",
       "      <th>8668</th>\n",
       "      <td>INTJ</td>\n",
       "      <td>Here's a planned stress relieving activity tha...</td>\n",
       "    </tr>\n",
       "    <tr>\n",
       "      <th>8669</th>\n",
       "      <td>INFJ</td>\n",
       "      <td>I'm not sure about a method for picking out IN...</td>\n",
       "    </tr>\n",
       "    <tr>\n",
       "      <th>8670</th>\n",
       "      <td>ISFP</td>\n",
       "      <td>https://www.youtube.com/watch?v=t8edHB_h908 Ix...</td>\n",
       "    </tr>\n",
       "    <tr>\n",
       "      <th>8671</th>\n",
       "      <td>ENFP</td>\n",
       "      <td>So...if this thread already exists someplace e...</td>\n",
       "    </tr>\n",
       "    <tr>\n",
       "      <th>8672</th>\n",
       "      <td>INTP</td>\n",
       "      <td>So many questions when i do these things.  I w...</td>\n",
       "    </tr>\n",
       "    <tr>\n",
       "      <th>8673</th>\n",
       "      <td>INFP</td>\n",
       "      <td>I am very conflicted right now when it comes t...</td>\n",
       "    </tr>\n",
       "    <tr>\n",
       "      <th>8674</th>\n",
       "      <td>INFP</td>\n",
       "      <td>It has been too long since I have been on pers...</td>\n",
       "    </tr>\n",
       "  </tbody>\n",
       "</table>\n",
       "<p>8675 rows × 2 columns</p>\n",
       "</div>"
      ],
      "text/plain": [
       "      type                                              posts\n",
       "0     INFJ  http://www.youtube.com/watch?v=qsXHcwe3krw htt...\n",
       "1     ENTP  I'm finding the lack of me in these posts very...\n",
       "2     INTP  Good one  _____   https://www.youtube.com/watc...\n",
       "3     INTJ  Dear INTP,   I enjoyed our conversation the ot...\n",
       "4     ENTJ  You're fired. That's another silly misconcepti...\n",
       "5     INTJ  18/37 @.@ Science  is not perfect. No scientis...\n",
       "6     INFJ  No, I can't draw on my own nails (haha). Those...\n",
       "7     INTJ  I tend to build up a collection of things on m...\n",
       "8     INFJ  'm not sure, that's a good question. The disti...\n",
       "9     INTP  https://www.youtube.com/watch?v=w8-egj0y8Qs I'...\n",
       "10    INFJ  One time my parents were fighting over my dad'...\n",
       "11    ENFJ  https://www.youtube.com/watch?v=PLAaiKvHvZs 51...\n",
       "12    INFJ  Joe santagato - ENTP ENFJ or  ENTP?   I'm not ...\n",
       "13    INTJ  Fair enough, if that's how you want to look at...\n",
       "14    INTP  Basically this...  https://youtu.be/1pH5c1JkhL...\n",
       "15    INTP  Your comment screams INTJ, bro. Especially the...\n",
       "16    INFJ  some of these both excite and calm me:  BUTTS ...\n",
       "17    INFP  I think we do agree. I personally don't consid...\n",
       "18    INFJ  I fully believe in the power of being a protec...\n",
       "19    INFP  That's normal, it happens also to me. If I am ...\n",
       "20    INTP  Steve Job's was recognized for his striving fo...\n",
       "21    INFJ  It is very annoying to be misinterpreted. Espe...\n",
       "22    ENTJ  Now I'm interested. But too lazy to go researc...\n",
       "23    INFP  45016 urh sorry uh. couldn't resist. all of yo...\n",
       "24    ENTJ  Still going strong at just over the two year m...\n",
       "25    INFP  Personally, I was thinking this would be more ...\n",
       "26    ENFP  He doesn't want to go on the trip without me, ...\n",
       "27    ISFP  They paint without numbers I'd guess at istp t...\n",
       "28    INFP  Basically, my main questions are : What do you...\n",
       "29    INFJ  I think that that can absolutely be true of in...\n",
       "...    ...                                                ...\n",
       "8645  INFJ  I play cello, and I'm also a classically train...\n",
       "8646  INFP  ts more or less based on how YOU experienced t...\n",
       "8647  INTP  ocionics picked up on this.  They call it visu...\n",
       "8648  INFP  Good advice, thank you. I am in a tough situat...\n",
       "8649  INFP  ttps://www.youtube.com/watch?v=nPDusM-75FE  en...\n",
       "8650  INFJ  I think the real question is whether INFJs can...\n",
       "8651  ISTP  -Being alone -Being insensitive  -Over thinkin...\n",
       "8652  ISFJ  Being assertive and standing up for myself is ...\n",
       "8653  INFP  You should do whatever it is you want. If you ...\n",
       "8654  ISTJ  Assuming I had a hand in it, I always at least...\n",
       "8655  INFJ  I find that poster and your facial expression,...\n",
       "8656  INFJ  im  In some approximate order, it seems like y...\n",
       "8657  INTJ  ocial  1) Generally, I positively associate wi...\n",
       "8658  ESFJ  Don't worry, I do that too when a car comes cl...\n",
       "8659  ENFP  leoni I had really bad social anxiety until I ...\n",
       "8660  INFP  I love the vastness of the sky, because my pro...\n",
       "8661  ENTP  **haven't logged in and read posts for over 6 ...\n",
       "8662  INTJ  I can't say I have any one specific belief. I ...\n",
       "8663  INTP  doesn't matter, you don't have a choice, Elect...\n",
       "8664  INTP  https://www.youtube.com/watch?v=7zsMdi714mI So...\n",
       "8665  ENTP  This test wasn't even close on my gender, age,...\n",
       "8666  INTJ  Highly recommend this to those who wants to tr...\n",
       "8667  ENTP  I think generally people experience post traum...\n",
       "8668  INTJ  Here's a planned stress relieving activity tha...\n",
       "8669  INFJ  I'm not sure about a method for picking out IN...\n",
       "8670  ISFP  https://www.youtube.com/watch?v=t8edHB_h908 Ix...\n",
       "8671  ENFP  So...if this thread already exists someplace e...\n",
       "8672  INTP  So many questions when i do these things.  I w...\n",
       "8673  INFP  I am very conflicted right now when it comes t...\n",
       "8674  INFP  It has been too long since I have been on pers...\n",
       "\n",
       "[8675 rows x 2 columns]"
      ]
     },
     "execution_count": 65,
     "metadata": {},
     "output_type": "execute_result"
    }
   ],
   "source": [
    "df"
   ]
  },
  {
   "cell_type": "markdown",
   "metadata": {},
   "source": [
    "# 2. Train - Test split"
   ]
  },
  {
   "cell_type": "code",
   "execution_count": 66,
   "metadata": {},
   "outputs": [],
   "source": [
    "train, test = train_test_split(df, test_size=0.2, random_state=42)"
   ]
  },
  {
   "cell_type": "code",
   "execution_count": 67,
   "metadata": {},
   "outputs": [],
   "source": [
    "X_train = train['posts'].values\n",
    "X_test = test['posts'].values\n",
    "Y_train = train['type'].values\n",
    "Y_test = test['type'].values"
   ]
  },
  {
   "cell_type": "markdown",
   "metadata": {},
   "source": [
    "# 3. Encoding labels"
   ]
  },
  {
   "cell_type": "code",
   "execution_count": 68,
   "metadata": {},
   "outputs": [
    {
     "data": {
      "text/plain": [
       "LabelEncoder()"
      ]
     },
     "execution_count": 68,
     "metadata": {},
     "output_type": "execute_result"
    }
   ],
   "source": [
    "le = LabelEncoder()\n",
    "le.fit(Y_train)"
   ]
  },
  {
   "cell_type": "code",
   "execution_count": 69,
   "metadata": {},
   "outputs": [
    {
     "data": {
      "text/plain": [
       "array(['ENFJ', 'ENFP', 'ENTJ', 'ENTP', 'ESFJ', 'ESFP', 'ESTJ', 'ESTP',\n",
       "       'INFJ', 'INFP', 'INTJ', 'INTP', 'ISFJ', 'ISFP', 'ISTJ', 'ISTP'],\n",
       "      dtype=object)"
      ]
     },
     "execution_count": 69,
     "metadata": {},
     "output_type": "execute_result"
    }
   ],
   "source": [
    "le.classes_"
   ]
  },
  {
   "cell_type": "code",
   "execution_count": 70,
   "metadata": {},
   "outputs": [
    {
     "data": {
      "text/plain": [
       "array([ 8,  1,  3, ...,  8,  9, 10])"
      ]
     },
     "execution_count": 70,
     "metadata": {},
     "output_type": "execute_result"
    }
   ],
   "source": [
    "y_train_enc = le.transform(Y_train)\n",
    "y_train_enc"
   ]
  },
  {
   "cell_type": "markdown",
   "metadata": {},
   "source": [
    "# 4. Classification pipeline\n",
    "### with feature extraction and tf-idf"
   ]
  },
  {
   "cell_type": "code",
   "execution_count": 71,
   "metadata": {},
   "outputs": [],
   "source": [
    "def get_wordnet_pos(treebank_tag):\n",
    "    \"\"\"\n",
    "    Maps treebank tags to wordnet.\n",
    "    This step is needed when doing lemmatization\n",
    "    in combination with pos tagging.\n",
    "    :return: corresponding wordnet tag object\n",
    "    \"\"\"\n",
    "    # Decision block for mapping treebank tags to wordnet.\n",
    "    # Source: http://stackoverflow.com/a/15590384/5491423\n",
    "    if treebank_tag.startswith('J'):\n",
    "        return wordnet.ADJ\n",
    "    elif treebank_tag.startswith('V'):\n",
    "        return wordnet.VERB\n",
    "    elif treebank_tag.startswith('N'):\n",
    "        return wordnet.NOUN\n",
    "    elif treebank_tag.startswith('R'):\n",
    "        return wordnet.ADV\n",
    "    else:\n",
    "        return wordnet.NOUN"
   ]
  },
  {
   "cell_type": "code",
   "execution_count": 72,
   "metadata": {},
   "outputs": [],
   "source": [
    "class LemmaTokenizer(object):\n",
    "    \"\"\"\n",
    "    Based on: http://scikit-learn.org/stable/modules/feature_extraction.html#customizing-the-vectorizer-classes\n",
    "    \"\"\"\n",
    "    def __init__(self):\n",
    "        self.wnl = WordNetLemmatizer()\n",
    "\n",
    "    def __call__(self, doc):\n",
    "        return [self.wnl.lemmatize(t, get_wordnet_pos(pt)) for t, pt in nltk.pos_tag(word_tokenize(doc))]\n",
    "\n",
    "\n",
    "class StemTokenizer(object):\n",
    "    \"\"\"\n",
    "    Based on: http://scikit-learn.org/stable/modules/feature_extraction.html#customizing-the-vectorizer-classes\n",
    "    \"\"\"\n",
    "    def __init__(self):\n",
    "        self.ps = PorterStemmer()\n",
    "\n",
    "    def __call__(self, doc):\n",
    "        return [self.ps.stem(t) for t in word_tokenize(doc)]"
   ]
  },
  {
   "cell_type": "code",
   "execution_count": 73,
   "metadata": {},
   "outputs": [],
   "source": [
    "# SVC Pipeline\n",
    "def create_svc_pipe(norm='l2'):\n",
    "            \n",
    "    svc_classifier = Pipeline([\n",
    "        ('vectorizer', CountVectorizer(lowercase=True, \n",
    "                                       tokenizer=LemmaTokenizer(), \n",
    "                                       stop_words='english'\n",
    "                                        )),\n",
    "        ('tfidf', TfidfTransformer(norm=norm)),\n",
    "        ('clf', LinearSVC(multi_class='ovr', verbose=100, random_state=42))])\n",
    "    return svc_classifier"
   ]
  },
  {
   "cell_type": "code",
   "execution_count": 74,
   "metadata": {},
   "outputs": [],
   "source": [
    "svc_pipe = create_svc_pipe()"
   ]
  },
  {
   "cell_type": "code",
   "execution_count": 100,
   "metadata": {},
   "outputs": [
    {
     "name": "stdout",
     "output_type": "stream",
     "text": [
      "155502\n"
     ]
    }
   ],
   "source": [
    "print(len(svc_pipe.named_steps[\"vectorizer\"].get_feature_names()))"
   ]
  },
  {
   "cell_type": "code",
   "execution_count": 75,
   "metadata": {
    "scrolled": true
   },
   "outputs": [
    {
     "name": "stdout",
     "output_type": "stream",
     "text": [
      "[LibLinear]"
     ]
    },
    {
     "data": {
      "text/plain": [
       "Pipeline(memory=None,\n",
       "     steps=[('vectorizer', CountVectorizer(analyzer='word', binary=False, decode_error='strict',\n",
       "        dtype=<class 'numpy.int64'>, encoding='utf-8', input='content',\n",
       "        lowercase=True, max_df=1.0, max_features=None, min_df=1,\n",
       "        ngram_range=(1, 1), preprocessor=None, stop_words='english',\n",
       "  ...ax_iter=1000,\n",
       "     multi_class='ovr', penalty='l2', random_state=42, tol=0.0001,\n",
       "     verbose=100))])"
      ]
     },
     "execution_count": 75,
     "metadata": {},
     "output_type": "execute_result"
    }
   ],
   "source": [
    "svc_pipe.fit(X_train, y_train_enc)"
   ]
  },
  {
   "cell_type": "markdown",
   "metadata": {},
   "source": [
    "# 6. Testing"
   ]
  },
  {
   "cell_type": "code",
   "execution_count": 76,
   "metadata": {},
   "outputs": [],
   "source": [
    "predictions = svc_pipe.predict(X_test)"
   ]
  },
  {
   "cell_type": "code",
   "execution_count": 77,
   "metadata": {},
   "outputs": [],
   "source": [
    "y_test_enc = le.transform(Y_test)"
   ]
  },
  {
   "cell_type": "code",
   "execution_count": 95,
   "metadata": {},
   "outputs": [
    {
     "name": "stderr",
     "output_type": "stream",
     "text": [
      "/home/delusionx/anaconda3/envs/knowledge_discovery/lib/python3.6/site-packages/sklearn/metrics/classification.py:1135: UndefinedMetricWarning: Precision and F-score are ill-defined and being set to 0.0 in labels with no predicted samples.\n",
      "  'precision', 'predicted', average, warn_for)\n"
     ]
    },
    {
     "data": {
      "text/plain": [
       "(0.6748822965770683, 0.6760806916426513, 0.663769424138718, None)"
      ]
     },
     "execution_count": 95,
     "metadata": {},
     "output_type": "execute_result"
    }
   ],
   "source": [
    "precision_recall_fscore_support(y_test_enc, predictions, average='weighted')"
   ]
  },
  {
   "cell_type": "code",
   "execution_count": 96,
   "metadata": {},
   "outputs": [
    {
     "name": "stdout",
     "output_type": "stream",
     "text": [
      "             precision    recall  f1-score   support\n",
      "\n",
      "       ENFJ       0.44      0.17      0.25        41\n",
      "       ENFP       0.69      0.65      0.67       125\n",
      "       ENTJ       0.72      0.48      0.58        44\n",
      "       ENTP       0.65      0.61      0.63       135\n",
      "       ESFJ       1.00      0.14      0.25         7\n",
      "       ESFP       0.00      0.00      0.00         8\n",
      "       ESTJ       0.67      0.29      0.40         7\n",
      "       ESTP       0.71      0.33      0.45        15\n",
      "       INFJ       0.66      0.69      0.67       288\n",
      "       INFP       0.67      0.84      0.74       370\n",
      "       INTJ       0.64      0.70      0.67       193\n",
      "       INTP       0.71      0.80      0.75       293\n",
      "       ISFJ       0.88      0.49      0.63        45\n",
      "       ISFP       0.72      0.43      0.54        53\n",
      "       ISTJ       0.70      0.32      0.44        44\n",
      "       ISTP       0.71      0.55      0.62        67\n",
      "\n",
      "avg / total       0.67      0.68      0.66      1735\n",
      "\n"
     ]
    },
    {
     "name": "stderr",
     "output_type": "stream",
     "text": [
      "/home/delusionx/anaconda3/envs/knowledge_discovery/lib/python3.6/site-packages/sklearn/metrics/classification.py:1135: UndefinedMetricWarning: Precision and F-score are ill-defined and being set to 0.0 in labels with no predicted samples.\n",
      "  'precision', 'predicted', average, warn_for)\n"
     ]
    }
   ],
   "source": [
    "print(classification_report(y_test_enc, predictions, target_names=le.classes_))"
   ]
  }
 ],
 "metadata": {
  "kernelspec": {
   "display_name": "Python 3",
   "language": "python",
   "name": "python3"
  },
  "language_info": {
   "codemirror_mode": {
    "name": "ipython",
    "version": 3
   },
   "file_extension": ".py",
   "mimetype": "text/x-python",
   "name": "python",
   "nbconvert_exporter": "python",
   "pygments_lexer": "ipython3",
   "version": "3.6.4"
  }
 },
 "nbformat": 4,
 "nbformat_minor": 2
}
