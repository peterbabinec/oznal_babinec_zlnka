{
 "cells": [
  {
   "cell_type": "markdown",
   "metadata": {},
   "source": [
    "#### Advanced preprocessing\n",
    "- stop-words removal\n",
    "- URLs replaced with domain names\n",
    "\n",
    "#### Basic transformation\n",
    "- no dimensionality reduction\n",
    "- tf-idf normalization\n",
    "\n",
    "#### LinearSVC\n",
    "- no parameter tuning\n",
    "- default parameters\n",
    "- OvR approach using parameter multi_class='ovr'"
   ]
  },
  {
   "cell_type": "code",
   "execution_count": 31,
   "metadata": {},
   "outputs": [],
   "source": [
    "import nltk\n",
    "import numpy as np\n",
    "import pandas as pd\n",
    "import re\n",
    "import sklearn\n",
    "import urllib.request as req\n",
    "\n",
    "from django.core.validators import URLValidator\n",
    "from django.core.exceptions import ValidationError\n",
    "\n",
    "from nltk import WordNetLemmatizer\n",
    "from nltk import PorterStemmer\n",
    "from nltk import word_tokenize\n",
    "from nltk.corpus import wordnet\n",
    "\n",
    "from sklearn.model_selection import train_test_split\n",
    "from sklearn.preprocessing import LabelEncoder\n",
    "from sklearn.pipeline import Pipeline\n",
    "from sklearn.multiclass import OneVsRestClassifier\n",
    "from sklearn.svm import SVC\n",
    "from sklearn.svm import LinearSVC\n",
    "from sklearn.feature_extraction.text import CountVectorizer\n",
    "from sklearn.feature_extraction.text import TfidfTransformer\n",
    "from sklearn.metrics import precision_recall_fscore_support\n",
    "from sklearn.metrics import classification_report\n",
    "\n",
    "from urllib.parse import urlparse\n",
    "from tldextract import extract"
   ]
  },
  {
   "cell_type": "markdown",
   "metadata": {},
   "source": [
    "# 1. Load data"
   ]
  },
  {
   "cell_type": "code",
   "execution_count": 32,
   "metadata": {},
   "outputs": [],
   "source": [
    "df = pd.read_csv('../mbti_1.csv')"
   ]
  },
  {
   "cell_type": "markdown",
   "metadata": {},
   "source": [
    "### Preprocessing"
   ]
  },
  {
   "cell_type": "code",
   "execution_count": 33,
   "metadata": {},
   "outputs": [],
   "source": [
    "df['posts'] = df['posts'].replace(to_replace=\"\\|\\|\\|\", value=\" \", regex=True)\n",
    "df['posts'] = df['posts'].str[1:-1]"
   ]
  },
  {
   "cell_type": "code",
   "execution_count": 34,
   "metadata": {},
   "outputs": [
    {
     "data": {
      "text/html": [
       "<div>\n",
       "<style scoped>\n",
       "    .dataframe tbody tr th:only-of-type {\n",
       "        vertical-align: middle;\n",
       "    }\n",
       "\n",
       "    .dataframe tbody tr th {\n",
       "        vertical-align: top;\n",
       "    }\n",
       "\n",
       "    .dataframe thead th {\n",
       "        text-align: right;\n",
       "    }\n",
       "</style>\n",
       "<table border=\"1\" class=\"dataframe\">\n",
       "  <thead>\n",
       "    <tr style=\"text-align: right;\">\n",
       "      <th></th>\n",
       "      <th>type</th>\n",
       "      <th>posts</th>\n",
       "    </tr>\n",
       "  </thead>\n",
       "  <tbody>\n",
       "    <tr>\n",
       "      <th>0</th>\n",
       "      <td>INFJ</td>\n",
       "      <td>http://www.youtube.com/watch?v=qsXHcwe3krw htt...</td>\n",
       "    </tr>\n",
       "    <tr>\n",
       "      <th>1</th>\n",
       "      <td>ENTP</td>\n",
       "      <td>I'm finding the lack of me in these posts very...</td>\n",
       "    </tr>\n",
       "    <tr>\n",
       "      <th>2</th>\n",
       "      <td>INTP</td>\n",
       "      <td>Good one  _____   https://www.youtube.com/watc...</td>\n",
       "    </tr>\n",
       "    <tr>\n",
       "      <th>3</th>\n",
       "      <td>INTJ</td>\n",
       "      <td>Dear INTP,   I enjoyed our conversation the ot...</td>\n",
       "    </tr>\n",
       "    <tr>\n",
       "      <th>4</th>\n",
       "      <td>ENTJ</td>\n",
       "      <td>You're fired. That's another silly misconcepti...</td>\n",
       "    </tr>\n",
       "  </tbody>\n",
       "</table>\n",
       "</div>"
      ],
      "text/plain": [
       "   type                                              posts\n",
       "0  INFJ  http://www.youtube.com/watch?v=qsXHcwe3krw htt...\n",
       "1  ENTP  I'm finding the lack of me in these posts very...\n",
       "2  INTP  Good one  _____   https://www.youtube.com/watc...\n",
       "3  INTJ  Dear INTP,   I enjoyed our conversation the ot...\n",
       "4  ENTJ  You're fired. That's another silly misconcepti..."
      ]
     },
     "execution_count": 34,
     "metadata": {},
     "output_type": "execute_result"
    }
   ],
   "source": [
    "df.head()"
   ]
  },
  {
   "cell_type": "code",
   "execution_count": 35,
   "metadata": {},
   "outputs": [],
   "source": [
    "# Replace URLs with domain names\n",
    "for index, row in df.iterrows():\n",
    "    urls = re.findall('(?P<url>https?://[^\\s]+)', row['posts'])\n",
    "    for u in urls:\n",
    "        row['posts'] = row['posts'].replace(u, extract(u).domain)"
   ]
  },
  {
   "cell_type": "code",
   "execution_count": 36,
   "metadata": {},
   "outputs": [],
   "source": [
    "# Remove non-alfa-num chars with exceptions (?!-)\n",
    "df['posts'] = df['posts'].replace(r'[^0-9a-zA-Z?!-]+', ' ', regex=True)"
   ]
  },
  {
   "cell_type": "code",
   "execution_count": 37,
   "metadata": {},
   "outputs": [],
   "source": [
    "# Reduce multiple dashes to one\n",
    "df['posts'] = df['posts'].replace(r'\\-+', '-', regex=True)"
   ]
  },
  {
   "cell_type": "code",
   "execution_count": 38,
   "metadata": {},
   "outputs": [],
   "source": [
    "# Remove dashes from beginning and end of every string\n",
    "df['posts'] = df['posts'].replace(r'(^-+)|(-+$)', '', regex=True)"
   ]
  },
  {
   "cell_type": "markdown",
   "metadata": {},
   "source": [
    "# 2. Train - Test split"
   ]
  },
  {
   "cell_type": "code",
   "execution_count": 39,
   "metadata": {},
   "outputs": [],
   "source": [
    "train, test = train_test_split(df, test_size=0.2, random_state=42)"
   ]
  },
  {
   "cell_type": "code",
   "execution_count": 40,
   "metadata": {},
   "outputs": [],
   "source": [
    "X_train = train['posts'].values\n",
    "X_test = test['posts'].values\n",
    "Y_train = train['type'].values\n",
    "Y_test = test['type'].values"
   ]
  },
  {
   "cell_type": "markdown",
   "metadata": {},
   "source": [
    "# 3. Encoding labels"
   ]
  },
  {
   "cell_type": "code",
   "execution_count": 41,
   "metadata": {},
   "outputs": [
    {
     "data": {
      "text/plain": [
       "LabelEncoder()"
      ]
     },
     "execution_count": 41,
     "metadata": {},
     "output_type": "execute_result"
    }
   ],
   "source": [
    "le = LabelEncoder()\n",
    "le.fit(Y_train)"
   ]
  },
  {
   "cell_type": "code",
   "execution_count": 42,
   "metadata": {},
   "outputs": [
    {
     "data": {
      "text/plain": [
       "array(['ENFJ', 'ENFP', 'ENTJ', 'ENTP', 'ESFJ', 'ESFP', 'ESTJ', 'ESTP',\n",
       "       'INFJ', 'INFP', 'INTJ', 'INTP', 'ISFJ', 'ISFP', 'ISTJ', 'ISTP'],\n",
       "      dtype=object)"
      ]
     },
     "execution_count": 42,
     "metadata": {},
     "output_type": "execute_result"
    }
   ],
   "source": [
    "le.classes_"
   ]
  },
  {
   "cell_type": "code",
   "execution_count": 43,
   "metadata": {},
   "outputs": [
    {
     "data": {
      "text/plain": [
       "array([ 8,  1,  3, ...,  8,  9, 10])"
      ]
     },
     "execution_count": 43,
     "metadata": {},
     "output_type": "execute_result"
    }
   ],
   "source": [
    "y_train_enc = le.transform(Y_train)\n",
    "y_train_enc"
   ]
  },
  {
   "cell_type": "markdown",
   "metadata": {},
   "source": [
    "# 4. Classification pipeline\n",
    "### with feature extraction and tf-idf"
   ]
  },
  {
   "cell_type": "code",
   "execution_count": 44,
   "metadata": {},
   "outputs": [],
   "source": [
    "def get_wordnet_pos(treebank_tag):\n",
    "    \"\"\"\n",
    "    Maps treebank tags to wordnet.\n",
    "    This step is needed when doing lemmatization\n",
    "    in combination with pos tagging.\n",
    "    :return: corresponding wordnet tag object\n",
    "    \"\"\"\n",
    "    # Decision block for mapping treebank tags to wordnet.\n",
    "    # Source: http://stackoverflow.com/a/15590384/5491423\n",
    "    if treebank_tag.startswith('J'):\n",
    "        return wordnet.ADJ\n",
    "    elif treebank_tag.startswith('V'):\n",
    "        return wordnet.VERB\n",
    "    elif treebank_tag.startswith('N'):\n",
    "        return wordnet.NOUN\n",
    "    elif treebank_tag.startswith('R'):\n",
    "        return wordnet.ADV\n",
    "    else:\n",
    "        return wordnet.NOUN"
   ]
  },
  {
   "cell_type": "code",
   "execution_count": 45,
   "metadata": {},
   "outputs": [],
   "source": [
    "class LemmaTokenizer(object):\n",
    "    \"\"\"\n",
    "    Based on: http://scikit-learn.org/stable/modules/feature_extraction.html#customizing-the-vectorizer-classes\n",
    "    \"\"\"\n",
    "    def __init__(self):\n",
    "        self.wnl = WordNetLemmatizer()\n",
    "\n",
    "    def __call__(self, doc):\n",
    "        return [self.wnl.lemmatize(t, get_wordnet_pos(pt)) for t, pt in nltk.pos_tag(word_tokenize(doc))]\n",
    "\n",
    "\n",
    "class StemTokenizer(object):\n",
    "    \"\"\"\n",
    "    Based on: http://scikit-learn.org/stable/modules/feature_extraction.html#customizing-the-vectorizer-classes\n",
    "    \"\"\"\n",
    "    def __init__(self):\n",
    "        self.ps = PorterStemmer()\n",
    "\n",
    "    def __call__(self, doc):\n",
    "        return [self.ps.stem(t) for t in word_tokenize(doc)]"
   ]
  },
  {
   "cell_type": "code",
   "execution_count": 46,
   "metadata": {},
   "outputs": [],
   "source": [
    "# SVC Pipeline\n",
    "def create_svc_pipe(norm='l2'):\n",
    "            \n",
    "    svc_classifier = Pipeline([\n",
    "        ('vectorizer', CountVectorizer(lowercase=True, \n",
    "                                       tokenizer=LemmaTokenizer(),\n",
    "                                       # tokenizer=StemTokenizer(), \n",
    "                                       stop_words='english'\n",
    "                                        )),\n",
    "        ('tfidf', TfidfTransformer(norm=norm)),\n",
    "        ('clf', LinearSVC(multi_class='ovr', class_weight='balanced', verbose=100, random_state=42))])\n",
    "    return svc_classifier"
   ]
  },
  {
   "cell_type": "code",
   "execution_count": 47,
   "metadata": {},
   "outputs": [],
   "source": [
    "svc_pipe = create_svc_pipe()"
   ]
  },
  {
   "cell_type": "code",
   "execution_count": 56,
   "metadata": {},
   "outputs": [
    {
     "name": "stdout",
     "output_type": "stream",
     "text": [
      "105116\n"
     ]
    }
   ],
   "source": [
    "# Lemmatization\n",
    "print(len(svc_pipe.named_steps[\"vectorizer\"].get_feature_names()))"
   ]
  },
  {
   "cell_type": "markdown",
   "metadata": {},
   "source": [
    "# 5. Training"
   ]
  },
  {
   "cell_type": "code",
   "execution_count": 50,
   "metadata": {
    "scrolled": true
   },
   "outputs": [
    {
     "name": "stdout",
     "output_type": "stream",
     "text": [
      "[LibLinear]"
     ]
    },
    {
     "data": {
      "text/plain": [
       "Pipeline(memory=None,\n",
       "     steps=[('vectorizer', CountVectorizer(analyzer='word', binary=False, decode_error='strict',\n",
       "        dtype=<class 'numpy.int64'>, encoding='utf-8', input='content',\n",
       "        lowercase=True, max_df=1.0, max_features=None, min_df=1,\n",
       "        ngram_range=(1, 1), preprocessor=None, stop_words='english',\n",
       "  ...ax_iter=1000,\n",
       "     multi_class='ovr', penalty='l2', random_state=42, tol=0.0001,\n",
       "     verbose=100))])"
      ]
     },
     "execution_count": 50,
     "metadata": {},
     "output_type": "execute_result"
    }
   ],
   "source": [
    "svc_pipe.fit(X_train, y_train_enc)"
   ]
  },
  {
   "cell_type": "markdown",
   "metadata": {},
   "source": [
    "# 6. Testing"
   ]
  },
  {
   "cell_type": "code",
   "execution_count": 51,
   "metadata": {},
   "outputs": [],
   "source": [
    "predictions = svc_pipe.predict(X_test)"
   ]
  },
  {
   "cell_type": "code",
   "execution_count": 52,
   "metadata": {},
   "outputs": [],
   "source": [
    "y_test_enc = le.transform(Y_test)"
   ]
  },
  {
   "cell_type": "code",
   "execution_count": 53,
   "metadata": {},
   "outputs": [
    {
     "name": "stderr",
     "output_type": "stream",
     "text": [
      "/home/delusionx/anaconda3/envs/knowledge_discovery/lib/python3.6/site-packages/sklearn/metrics/classification.py:1135: UndefinedMetricWarning: Precision and F-score are ill-defined and being set to 0.0 in labels with no predicted samples.\n",
      "  'precision', 'predicted', average, warn_for)\n"
     ]
    },
    {
     "data": {
      "text/plain": [
       "(0.6847286480101508, 0.6876080691642651, 0.6852009479280805, None)"
      ]
     },
     "execution_count": 53,
     "metadata": {},
     "output_type": "execute_result"
    }
   ],
   "source": [
    "precision_recall_fscore_support(y_test_enc, predictions, average='weighted')"
   ]
  },
  {
   "cell_type": "code",
   "execution_count": 21,
   "metadata": {},
   "outputs": [
    {
     "name": "stderr",
     "output_type": "stream",
     "text": [
      "/home/delusionx/anaconda3/envs/knowledge_discovery/lib/python3.6/site-packages/sklearn/metrics/classification.py:1135: UndefinedMetricWarning: Precision and F-score are ill-defined and being set to 0.0 in labels with no predicted samples.\n",
      "  'precision', 'predicted', average, warn_for)\n"
     ]
    },
    {
     "data": {
      "text/plain": [
       "(0.6789809482625633, 0.6789625360230548, 0.671172078828815, None)"
      ]
     },
     "execution_count": 21,
     "metadata": {},
     "output_type": "execute_result"
    }
   ],
   "source": [
    "# Stemming\n",
    "# precision_recall_fscore_support(y_test_enc, predictions, average='weighted')"
   ]
  },
  {
   "cell_type": "code",
   "execution_count": 294,
   "metadata": {
    "scrolled": false
   },
   "outputs": [
    {
     "name": "stdout",
     "output_type": "stream",
     "text": [
      "             precision    recall  f1-score   support\n",
      "\n",
      "       ENFJ       0.53      0.46      0.49        41\n",
      "       ENFP       0.63      0.71      0.67       125\n",
      "       ENTJ       0.53      0.52      0.53        44\n",
      "       ENTP       0.63      0.66      0.64       135\n",
      "       ESFJ       0.25      0.29      0.27         7\n",
      "       ESFP       0.00      0.00      0.00         8\n",
      "       ESTJ       0.57      0.57      0.57         7\n",
      "       ESTP       0.64      0.47      0.54        15\n",
      "       INFJ       0.70      0.65      0.67       288\n",
      "       INFP       0.74      0.76      0.75       370\n",
      "       INTJ       0.68      0.69      0.69       193\n",
      "       INTP       0.75      0.78      0.76       293\n",
      "       ISFJ       0.82      0.71      0.76        45\n",
      "       ISFP       0.54      0.53      0.53        53\n",
      "       ISTJ       0.67      0.55      0.60        44\n",
      "       ISTP       0.64      0.69      0.66        67\n",
      "\n",
      "avg / total       0.68      0.69      0.69      1735\n",
      "\n"
     ]
    },
    {
     "name": "stderr",
     "output_type": "stream",
     "text": [
      "/home/delusionx/anaconda3/envs/knowledge_discovery/lib/python3.6/site-packages/sklearn/metrics/classification.py:1135: UndefinedMetricWarning: Precision and F-score are ill-defined and being set to 0.0 in labels with no predicted samples.\n",
      "  'precision', 'predicted', average, warn_for)\n"
     ]
    }
   ],
   "source": [
    "print(classification_report(y_test_enc, predictions, target_names=le.classes_))"
   ]
  },
  {
   "cell_type": "code",
   "execution_count": 300,
   "metadata": {},
   "outputs": [
    {
     "name": "stdout",
     "output_type": "stream",
     "text": [
      "['ENFJ', '0.53', '0.46', '0.49', '41']\n",
      "['ENFP', '0.63', '0.71', '0.67', '125']\n",
      "['ENTJ', '0.53', '0.52', '0.53', '44']\n",
      "['ENTP', '0.63', '0.66', '0.64', '135']\n",
      "['ESFJ', '0.25', '0.29', '0.27', '7']\n",
      "['ESFP', '0.00', '0.00', '0.00', '8']\n",
      "['ESTJ', '0.57', '0.57', '0.57', '7']\n",
      "['ESTP', '0.64', '0.47', '0.54', '15']\n",
      "['INFJ', '0.70', '0.65', '0.67', '288']\n",
      "['INFP', '0.74', '0.76', '0.75', '370']\n",
      "['INTJ', '0.68', '0.69', '0.69', '193']\n",
      "['INTP', '0.75', '0.78', '0.76', '293']\n",
      "['ISFJ', '0.82', '0.71', '0.76', '45']\n",
      "['ISFP', '0.54', '0.53', '0.53', '53']\n",
      "['ISTJ', '0.67', '0.55', '0.60', '44']\n",
      "['ISTP', '0.64', '0.69', '0.66', '67']\n"
     ]
    },
    {
     "name": "stderr",
     "output_type": "stream",
     "text": [
      "/home/delusionx/anaconda3/envs/knowledge_discovery/lib/python3.6/site-packages/sklearn/metrics/classification.py:1135: UndefinedMetricWarning: Precision and F-score are ill-defined and being set to 0.0 in labels with no predicted samples.\n",
      "  'precision', 'predicted', average, warn_for)\n"
     ]
    }
   ],
   "source": [
    "def report_to_dataframe(report):\n",
    "    report_data = []\n",
    "    for i in range(2, 18):\n",
    "        row_data = list(filter(None, report.split('\\n')[i].split(' ')))\n",
    "        print(row_data)\n",
    "        df_row = {}\n",
    "        df_row['trieda'] = row_data[0]\n",
    "        df_row['F1'] = float(row_data[3])\n",
    "        df_row['presnosť'] = float(row_data[1])\n",
    "        df_row['pokrytie'] = float(row_data[2])\n",
    "        \n",
    "        report_data.append(df_row)\n",
    "    dataframe = pd.DataFrame.from_dict(report_data)\n",
    "    return dataframe\n",
    "\n",
    "report = classification_report(y_test_enc, predictions, target_names=le.classes_)\n",
    "df_rep = report_to_dataframe(report)"
   ]
  },
  {
   "cell_type": "code",
   "execution_count": 301,
   "metadata": {},
   "outputs": [],
   "source": [
    "import matplotlib.pyplot as plt\n",
    "import seaborn as sns\n",
    "sns.set(font_scale=1.15)"
   ]
  },
  {
   "cell_type": "code",
   "execution_count": 302,
   "metadata": {},
   "outputs": [],
   "source": [
    "df_rep.set_index('trieda', inplace=True)\n",
    "df_rep = df_rep[['presnosť','pokrytie', 'F1']]"
   ]
  },
  {
   "cell_type": "code",
   "execution_count": 319,
   "metadata": {},
   "outputs": [
    {
     "data": {
      "image/png": "[encoded data removed]",
      "text/plain": [
       "<matplotlib.figure.Figure at 0x7f17a0ad0470>"
      ]
     },
     "metadata": {},
     "output_type": "display_data"
    }
   ],
   "source": [
    "f, ax = plt.subplots(figsize=(9, 8))\n",
    "color_palette = sns.diverging_palette(14, 141, sep=5, n=7)\n",
    "heatmap = sns.heatmap(df_rep, annot=True, vmin=0.0, vmax=1.0, linewidths=.5, ax=ax, cmap=color_palette)\n",
    "heatfig = heatmap.get_figure()\n",
    "heatfig.savefig(\"linearSVC_results.png\", dpi=200)"
   ]
  },
  {
   "cell_type": "code",
   "execution_count": null,
   "metadata": {},
   "outputs": [],
   "source": []
  },
  {
   "cell_type": "code",
   "execution_count": null,
   "metadata": {},
   "outputs": [],
   "source": []
  }
 ],
 "metadata": {
  "kernelspec": {
   "display_name": "Python 3",
   "language": "python",
   "name": "python3"
  },
  "language_info": {
   "codemirror_mode": {
    "name": "ipython",
    "version": 3
   },
   "file_extension": ".py",
   "mimetype": "text/x-python",
   "name": "python",
   "nbconvert_exporter": "python",
   "pygments_lexer": "ipython3",
   "version": "3.6.4"
  }
 },
 "nbformat": 4,
 "nbformat_minor": 2
}
